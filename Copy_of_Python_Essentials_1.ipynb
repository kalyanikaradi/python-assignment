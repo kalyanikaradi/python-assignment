{
  "cells": [
    {
      "cell_type": "markdown",
      "metadata": {
        "id": "view-in-github",
        "colab_type": "text"
      },
      "source": [
        "<a href=\"https://colab.research.google.com/github/kalyanikaradi/python-assignment/blob/main/Copy_of_Python_Essentials_1.ipynb\" target=\"_parent\"><img src=\"https://colab.research.google.com/assets/colab-badge.svg\" alt=\"Open In Colab\"/></a>"
      ]
    },
    {
      "cell_type": "markdown",
      "id": "5573a58b",
      "metadata": {
        "id": "5573a58b"
      },
      "source": [
        "# What is Jupyter  Notebook\n",
        "* The Jupyter Notebook is an open-source web application that allows data scientists to create and share documents that           integrate live code, equations, computational output, visualizations, and other multimedia resources,\n",
        "\n",
        "* Uses include data cleaning and transformation, numerical simulation, statistical modeling, data visualization, machine         learning, and much more.\n"
      ]
    },
    {
      "cell_type": "markdown",
      "id": "1c454286",
      "metadata": {
        "id": "1c454286"
      },
      "source": [
        "## Tutorial\n",
        "- Interactive\n",
        "- Results/outputs are stored so it is easy to review\n",
        "- Friendly for documentation\n",
        "- No limitation from performance\n",
        "- helpful shortcuts\n",
        "- Industry standard for all data science, ML, AI projects.\n",
        "\n",
        "<p> Extension of jupyter file is ipynb (i python notebook, previous name of Jupyter) </p>\n",
        "\n"
      ]
    },
    {
      "cell_type": "markdown",
      "id": "ee8239e8",
      "metadata": {
        "id": "ee8239e8"
      },
      "source": [
        "# This is a markdown\n",
        "\n",
        "**this is bold** this is not boldewfhbwebfs\n",
        "\n"
      ]
    },
    {
      "cell_type": "raw",
      "id": "291f7652",
      "metadata": {
        "id": "291f7652"
      },
      "source": [
        "This is Raw NBConvert\n",
        "python is coding launguage\n",
        "\n",
        "This is a raw cell\n",
        "Jupyter is awesome\n",
        "\n"
      ]
    },
    {
      "cell_type": "markdown",
      "id": "ec91a308",
      "metadata": {
        "id": "ec91a308"
      },
      "source": [
        "### mode\n",
        "* Green----> edit mode(Enter button)\n",
        "* blue-----> command mode(Esc button)\n"
      ]
    },
    {
      "cell_type": "markdown",
      "id": "e6babead",
      "metadata": {
        "id": "e6babead"
      },
      "source": [
        "# Short Cuts\n",
        "\n",
        "[shift] + [enter] : run a cell\n",
        "\n",
        "Command mode:\n",
        "a : insert cell above\n",
        "\n",
        "b : insert cell below\n",
        "\n",
        "dd : delete a cell\n",
        "\n",
        "z : undo a delete cell\n",
        "\n",
        "r : convert cell to raw cell\n",
        "\n",
        "m : convert cell to Markdown cell\n",
        "\n",
        "y : convert cell to code cell\n",
        "\n",
        "c: copy a cell\n",
        "\n",
        "v : paste a cell\n",
        "\n",
        "x : cut a cell\n",
        "\n",
        "o : toggle output\n",
        "\n",
        "# Edit Mode:\n",
        "\n",
        "Ctrl + C : copy a text\n",
        "\n",
        "Ctrl + V : paste\n",
        "\n",
        "Ctrl + X : cut\n",
        "\n",
        "Ctrl + Z : undo"
      ]
    },
    {
      "cell_type": "markdown",
      "id": "cd840a4f",
      "metadata": {
        "id": "cd840a4f"
      },
      "source": [
        "# Keywords\n"
      ]
    },
    {
      "cell_type": "raw",
      "id": "68afbcdd",
      "metadata": {
        "id": "68afbcdd"
      },
      "source": [
        "* Keywords in python are reserved words in python and cant be used as identifiers."
      ]
    },
    {
      "cell_type": "code",
      "execution_count": null,
      "id": "0ab1d4b0",
      "metadata": {
        "colab": {
          "base_uri": "https://localhost:8080/"
        },
        "id": "0ab1d4b0",
        "outputId": "6916e730-ac95-4609-d815-59486ec3587c"
      },
      "outputs": [
        {
          "output_type": "stream",
          "name": "stdout",
          "text": [
            "['False', 'None', 'True', 'and', 'as', 'assert', 'async', 'await', 'break', 'class', 'continue', 'def', 'del', 'elif', 'else', 'except', 'finally', 'for', 'from', 'global', 'if', 'import', 'in', 'is', 'lambda', 'nonlocal', 'not', 'or', 'pass', 'raise', 'return', 'try', 'while', 'with', 'yield']\n"
          ]
        }
      ],
      "source": [
        "import keyword\n",
        "print(keyword.kwlist)  # It will give all keywords of python"
      ]
    },
    {
      "cell_type": "code",
      "execution_count": null,
      "id": "7a9ef08d",
      "metadata": {
        "id": "7a9ef08d",
        "outputId": "86a4a8fb-7635-407a-bed5-fcbaafd9e7bb",
        "colab": {
          "base_uri": "https://localhost:8080/"
        }
      },
      "outputs": [
        {
          "output_type": "execute_result",
          "data": {
            "text/plain": [
              "35"
            ]
          },
          "metadata": {},
          "execution_count": 2
        }
      ],
      "source": [
        "len(keyword.kwlist)"
      ]
    },
    {
      "cell_type": "markdown",
      "id": "c15e70c8",
      "metadata": {
        "id": "c15e70c8"
      },
      "source": [
        "# Identifiers"
      ]
    },
    {
      "cell_type": "markdown",
      "id": "41911e15",
      "metadata": {
        "id": "41911e15"
      },
      "source": [
        "* An identifier is the name given to entities like functions,variables etc.\n",
        "* It helps in differentiating one entity from other."
      ]
    },
    {
      "cell_type": "code",
      "execution_count": null,
      "id": "66cb1403",
      "metadata": {
        "id": "66cb1403"
      },
      "outputs": [],
      "source": [
        "var=34"
      ]
    },
    {
      "cell_type": "code",
      "execution_count": null,
      "id": "c100d47b",
      "metadata": {
        "id": "c100d47b",
        "outputId": "1c5d4f88-a53e-4cc4-d6b0-20f73a216da8",
        "colab": {
          "base_uri": "https://localhost:8080/",
          "height": 106
        }
      },
      "outputs": [
        {
          "output_type": "error",
          "ename": "SyntaxError",
          "evalue": "cannot assign to expression here. Maybe you meant '==' instead of '='? (<ipython-input-5-001c3adf4325>, line 1)",
          "traceback": [
            "\u001b[0;36m  File \u001b[0;32m\"<ipython-input-5-001c3adf4325>\"\u001b[0;36m, line \u001b[0;32m1\u001b[0m\n\u001b[0;31m    var@123='abc' # Identifer cannot use special symbol\u001b[0m\n\u001b[0m    ^\u001b[0m\n\u001b[0;31mSyntaxError\u001b[0m\u001b[0;31m:\u001b[0m cannot assign to expression here. Maybe you meant '==' instead of '='?\n"
          ]
        }
      ],
      "source": [
        "var@123='abc' # Identifer cannot use special symbol"
      ]
    },
    {
      "cell_type": "code",
      "execution_count": null,
      "id": "57ac31ff",
      "metadata": {
        "id": "57ac31ff",
        "outputId": "1182418e-39ee-4861-fedf-90f2746d3d10",
        "colab": {
          "base_uri": "https://localhost:8080/",
          "height": 106
        }
      },
      "outputs": [
        {
          "output_type": "error",
          "ename": "SyntaxError",
          "evalue": "invalid syntax (<ipython-input-6-3641fd29759c>, line 1)",
          "traceback": [
            "\u001b[0;36m  File \u001b[0;32m\"<ipython-input-6-3641fd29759c>\"\u001b[0;36m, line \u001b[0;32m1\u001b[0m\n\u001b[0;31m    import=123 # Keywords cannot be used as identifier\u001b[0m\n\u001b[0m          ^\u001b[0m\n\u001b[0;31mSyntaxError\u001b[0m\u001b[0;31m:\u001b[0m invalid syntax\n"
          ]
        }
      ],
      "source": [
        "import=123 # Keywords cannot be used as identifier"
      ]
    },
    {
      "cell_type": "code",
      "execution_count": null,
      "id": "2bba50bc",
      "metadata": {
        "id": "2bba50bc"
      },
      "outputs": [],
      "source": [
        "\"\"\"\n",
        "Correct way of defining an identifier\n",
        "(Identifiers can be a combination of letters in lowercase (a to z) or uppercase\n",
        "and only special chararcter allowed is _ )\"\"\"\n",
        "\n",
        "\n",
        "var=2\n",
        "# var is entity called as variable has been created and assigned with valeu of 2"
      ]
    },
    {
      "cell_type": "code",
      "execution_count": null,
      "id": "1f250660",
      "metadata": {
        "id": "1f250660"
      },
      "outputs": [],
      "source": [
        "VAR=2"
      ]
    },
    {
      "cell_type": "code",
      "execution_count": null,
      "id": "683313e3",
      "metadata": {
        "id": "683313e3"
      },
      "outputs": [],
      "source": [
        "var_12='Data'"
      ]
    },
    {
      "cell_type": "markdown",
      "id": "97b903b7",
      "metadata": {
        "id": "97b903b7"
      },
      "source": [
        "# Comments"
      ]
    },
    {
      "cell_type": "markdown",
      "id": "d915980a",
      "metadata": {
        "id": "d915980a"
      },
      "source": [
        "* Comments can be used to explain the code for more readabilty."
      ]
    },
    {
      "cell_type": "code",
      "execution_count": null,
      "id": "bba78a99",
      "metadata": {
        "id": "bba78a99"
      },
      "outputs": [],
      "source": [
        "# Single line comment\n",
        "val2 = 10\n"
      ]
    },
    {
      "cell_type": "code",
      "execution_count": null,
      "id": "1ca2252d",
      "metadata": {
        "id": "1ca2252d",
        "outputId": "715116d4-86bb-4220-ace2-9dc65228d6eb",
        "colab": {
          "base_uri": "https://localhost:8080/"
        }
      },
      "outputs": [
        {
          "output_type": "execute_result",
          "data": {
            "text/plain": [
              "10"
            ]
          },
          "metadata": {},
          "execution_count": 14
        }
      ],
      "source": [
        "val2"
      ]
    },
    {
      "cell_type": "code",
      "execution_count": null,
      "id": "2f772d53",
      "metadata": {
        "id": "2f772d53"
      },
      "outputs": [],
      "source": [
        "# Multiple\n",
        "# line\n",
        "# comment\n",
        "val1 = 10\n"
      ]
    },
    {
      "cell_type": "code",
      "execution_count": null,
      "id": "31a80171",
      "metadata": {
        "id": "31a80171"
      },
      "outputs": [],
      "source": [
        "'''\n",
        "Multiple line\n",
        "comment '''\n",
        "val1 = 10\n"
      ]
    },
    {
      "cell_type": "code",
      "execution_count": null,
      "id": "2e10e922",
      "metadata": {
        "id": "2e10e922",
        "outputId": "194bb661-5a33-447d-ccc8-ee3df7b62551",
        "colab": {
          "base_uri": "https://localhost:8080/"
        }
      },
      "outputs": [
        {
          "output_type": "execute_result",
          "data": {
            "text/plain": [
              "10"
            ]
          },
          "metadata": {},
          "execution_count": 17
        }
      ],
      "source": [
        "val1"
      ]
    },
    {
      "cell_type": "code",
      "execution_count": null,
      "id": "c700542b",
      "metadata": {
        "id": "c700542b"
      },
      "outputs": [],
      "source": [
        "\"\"\"\n",
        "Multiple line\n",
        "comment \"\"\"\n",
        "val1= 10\n"
      ]
    },
    {
      "cell_type": "markdown",
      "id": "a76869bd",
      "metadata": {
        "id": "a76869bd"
      },
      "source": [
        "# Statements"
      ]
    },
    {
      "cell_type": "markdown",
      "id": "8bf438c4",
      "metadata": {
        "id": "8bf438c4"
      },
      "source": [
        "* Instructions that a Python interpreter can execute."
      ]
    },
    {
      "cell_type": "code",
      "execution_count": null,
      "id": "d8e2649e",
      "metadata": {
        "id": "d8e2649e"
      },
      "outputs": [],
      "source": []
    },
    {
      "cell_type": "code",
      "execution_count": null,
      "id": "7743442b",
      "metadata": {
        "id": "7743442b",
        "outputId": "8aa9a869-9a08-48f3-b16e-157c5b9c4769",
        "colab": {
          "base_uri": "https://localhost:8080/"
        }
      },
      "outputs": [
        {
          "output_type": "execute_result",
          "data": {
            "text/plain": [
              "5"
            ]
          },
          "metadata": {},
          "execution_count": 20
        }
      ],
      "source": [
        "2+3"
      ]
    },
    {
      "cell_type": "code",
      "execution_count": null,
      "id": "49b580e9",
      "metadata": {
        "id": "49b580e9",
        "outputId": "a8b00685-afd4-4062-8611-603d3d3da36e",
        "colab": {
          "base_uri": "https://localhost:8080/"
        }
      },
      "outputs": [
        {
          "output_type": "execute_result",
          "data": {
            "text/plain": [
              "['a', 'b', 'c', 'd']"
            ]
          },
          "metadata": {},
          "execution_count": 21
        }
      ],
      "source": [
        "# Single line statement\n",
        "p2 = ['a' , 'b' , 'c' , 'd']\n",
        "p2\n"
      ]
    },
    {
      "cell_type": "code",
      "execution_count": null,
      "id": "0465af83",
      "metadata": {
        "id": "0465af83",
        "outputId": "7178ec7b-d101-4215-bb50-847e0543096e",
        "colab": {
          "base_uri": "https://localhost:8080/"
        }
      },
      "outputs": [
        {
          "output_type": "execute_result",
          "data": {
            "text/plain": [
              "290"
            ]
          },
          "metadata": {},
          "execution_count": 22
        }
      ],
      "source": [
        "# Multiple line statement\n",
        "p1 = 20 + 30 \\\n",
        "+  40  +  50  \\\n",
        "+ 70 + 80\n",
        "p1\n"
      ]
    },
    {
      "cell_type": "markdown",
      "id": "a48922a0",
      "metadata": {
        "id": "a48922a0"
      },
      "source": [
        "# Variables"
      ]
    },
    {
      "cell_type": "markdown",
      "id": "33961071",
      "metadata": {
        "id": "33961071"
      },
      "source": [
        "*  A Python variable is a reserved memory location to store values.\n",
        "* A variable is created the moment you first assign a value to it.\n"
      ]
    },
    {
      "cell_type": "code",
      "execution_count": null,
      "id": "85427289",
      "metadata": {
        "id": "85427289"
      },
      "outputs": [],
      "source": [
        "k=30 ## variable creation"
      ]
    },
    {
      "cell_type": "code",
      "execution_count": null,
      "id": "3670495c",
      "metadata": {
        "id": "3670495c",
        "outputId": "c33935af-f7e8-404f-dbc9-5218bf6b22dd",
        "colab": {
          "base_uri": "https://localhost:8080/"
        }
      },
      "outputs": [
        {
          "output_type": "execute_result",
          "data": {
            "text/plain": [
              "30"
            ]
          },
          "metadata": {},
          "execution_count": 24
        }
      ],
      "source": [
        "k ## calling of variable"
      ]
    },
    {
      "cell_type": "code",
      "execution_count": null,
      "id": "fd3cbba9",
      "metadata": {
        "id": "fd3cbba9",
        "outputId": "f7a14069-ed20-4d03-cb23-d618cd33496d",
        "colab": {
          "base_uri": "https://localhost:8080/"
        }
      },
      "outputs": [
        {
          "output_type": "stream",
          "name": "stdout",
          "text": [
            "30\n"
          ]
        }
      ],
      "source": [
        "print(k) ## print the variable"
      ]
    },
    {
      "cell_type": "code",
      "execution_count": null,
      "id": "ad65dafa",
      "metadata": {
        "id": "ad65dafa",
        "outputId": "55243ee6-e876-45e7-cbe4-7fa9bba618a4",
        "colab": {
          "base_uri": "https://localhost:8080/"
        }
      },
      "outputs": [
        {
          "output_type": "stream",
          "name": "stdout",
          "text": [
            "This is print function\n"
          ]
        }
      ],
      "source": [
        "print('This is print function')"
      ]
    },
    {
      "cell_type": "code",
      "execution_count": null,
      "id": "f758df5c",
      "metadata": {
        "id": "f758df5c",
        "outputId": "01ebdbe4-e70b-4e26-ba85-1a8cdfe954f8",
        "colab": {
          "base_uri": "https://localhost:8080/"
        }
      },
      "outputs": [
        {
          "output_type": "stream",
          "name": "stdout",
          "text": [
            "This is print function with double quotes\n"
          ]
        }
      ],
      "source": [
        "print(\"This is print function with double quotes\")"
      ]
    },
    {
      "cell_type": "code",
      "execution_count": null,
      "id": "ace0954e",
      "metadata": {
        "id": "ace0954e",
        "outputId": "2a9d7547-388d-4bea-cdbb-c8af713c9115",
        "colab": {
          "base_uri": "https://localhost:8080/"
        }
      },
      "outputs": [
        {
          "output_type": "stream",
          "name": "stdout",
          "text": [
            "12\n"
          ]
        }
      ],
      "source": [
        "print(12)"
      ]
    },
    {
      "cell_type": "code",
      "execution_count": null,
      "id": "fdc032dd",
      "metadata": {
        "id": "fdc032dd",
        "outputId": "9729576d-2b43-4bcb-9d73-dcde3c0752a2",
        "colab": {
          "base_uri": "https://localhost:8080/"
        }
      },
      "outputs": [
        {
          "output_type": "stream",
          "name": "stdout",
          "text": [
            "b\n"
          ]
        }
      ],
      "source": [
        "print('b')"
      ]
    },
    {
      "cell_type": "code",
      "execution_count": null,
      "id": "016fda5e",
      "metadata": {
        "id": "016fda5e",
        "outputId": "76660706-f609-4ae7-a2e9-cbc027fe4fbb",
        "colab": {
          "base_uri": "https://localhost:8080/"
        }
      },
      "outputs": [
        {
          "output_type": "execute_result",
          "data": {
            "text/plain": [
              "int"
            ]
          },
          "metadata": {},
          "execution_count": 30
        }
      ],
      "source": [
        "type(k) # To know the datatype of python objects"
      ]
    },
    {
      "cell_type": "code",
      "execution_count": null,
      "id": "98af36cc",
      "metadata": {
        "id": "98af36cc"
      },
      "outputs": [],
      "source": [
        "b=35.5"
      ]
    },
    {
      "cell_type": "code",
      "execution_count": null,
      "id": "c2f1ec0d",
      "metadata": {
        "id": "c2f1ec0d",
        "outputId": "df179216-57e5-4b24-e5b9-d3bdfeecca21",
        "colab": {
          "base_uri": "https://localhost:8080/"
        }
      },
      "outputs": [
        {
          "output_type": "execute_result",
          "data": {
            "text/plain": [
              "float"
            ]
          },
          "metadata": {},
          "execution_count": 32
        }
      ],
      "source": [
        "type(b)"
      ]
    },
    {
      "cell_type": "code",
      "execution_count": null,
      "id": "14026be1",
      "metadata": {
        "id": "14026be1",
        "outputId": "d13a739e-176c-47c4-f825-cb05e928c964",
        "colab": {
          "base_uri": "https://localhost:8080/"
        }
      },
      "outputs": [
        {
          "output_type": "execute_result",
          "data": {
            "text/plain": [
              "bool"
            ]
          },
          "metadata": {},
          "execution_count": 33
        }
      ],
      "source": [
        "c=True\n",
        "type(c)"
      ]
    },
    {
      "cell_type": "code",
      "execution_count": null,
      "id": "fcdefe0b",
      "metadata": {
        "id": "fcdefe0b",
        "outputId": "f9ef15ff-37e2-4862-be67-6c3be9ce7bc2",
        "colab": {
          "base_uri": "https://localhost:8080/"
        }
      },
      "outputs": [
        {
          "output_type": "execute_result",
          "data": {
            "text/plain": [
              "str"
            ]
          },
          "metadata": {},
          "execution_count": 34
        }
      ],
      "source": [
        "d='abcs'\n",
        "type(d)"
      ]
    },
    {
      "cell_type": "markdown",
      "id": "c4e3a2d2",
      "metadata": {
        "id": "c4e3a2d2"
      },
      "source": [
        "# Variable Assignment"
      ]
    },
    {
      "cell_type": "code",
      "execution_count": null,
      "id": "f741d376",
      "metadata": {
        "id": "f741d376",
        "scrolled": true,
        "outputId": "da9ee49d-5d2e-483d-d1c8-8ee1f38fd66b",
        "colab": {
          "base_uri": "https://localhost:8080/"
        }
      },
      "outputs": [
        {
          "output_type": "stream",
          "name": "stdout",
          "text": [
            "10\n",
            "2.57\n",
            "Python Language\n"
          ]
        }
      ],
      "source": [
        "intvar = 10 # Integer variable\n",
        "floatvar = 2.57 # Float Variable\n",
        "strvar = \"Python Language\" # String variable\n",
        "print(intvar)\n",
        "print(floatvar)\n",
        "print(strvar)"
      ]
    },
    {
      "cell_type": "markdown",
      "id": "aff84426",
      "metadata": {
        "id": "aff84426"
      },
      "source": [
        "# Multiple Assignment"
      ]
    },
    {
      "cell_type": "code",
      "execution_count": null,
      "id": "d4683b2a",
      "metadata": {
        "id": "d4683b2a",
        "scrolled": true,
        "outputId": "1e2ac4e5-dd79-4a24-d5af-ff965d3f3468",
        "colab": {
          "base_uri": "https://localhost:8080/"
        }
      },
      "outputs": [
        {
          "output_type": "stream",
          "name": "stdout",
          "text": [
            "10\n",
            "2.57\n",
            "Python Language\n"
          ]
        }
      ],
      "source": [
        "intvar , floatvar , strvar = 10,2.57,\"Python Language\"\n",
        "# Using commas to separate variables\n",
        "print(intvar)\n",
        "print(floatvar)\n",
        "print(strvar)"
      ]
    },
    {
      "cell_type": "code",
      "execution_count": null,
      "id": "f486c066",
      "metadata": {
        "id": "f486c066",
        "outputId": "9c7af451-d242-4744-d094-0adc99e03952",
        "colab": {
          "base_uri": "https://localhost:8080/"
        }
      },
      "outputs": [
        {
          "output_type": "stream",
          "name": "stdout",
          "text": [
            "10 2.57 Python Language\n"
          ]
        }
      ],
      "source": [
        "print(intvar,floatvar,strvar)"
      ]
    },
    {
      "cell_type": "code",
      "execution_count": null,
      "id": "1644ff55",
      "metadata": {
        "id": "1644ff55",
        "scrolled": true,
        "outputId": "88e0e806-1e17-4cf1-c4ef-2bff37cf296d",
        "colab": {
          "base_uri": "https://localhost:8080/"
        }
      },
      "outputs": [
        {
          "output_type": "stream",
          "name": "stdout",
          "text": [
            "44 44 44 44\n"
          ]
        }
      ],
      "source": [
        "p1 = p2 = p3 = p4 = 44\n",
        "# All variables pointing to same value\n",
        "print(p1,p2,p3,p4)"
      ]
    },
    {
      "cell_type": "markdown",
      "id": "37f99688",
      "metadata": {
        "id": "37f99688"
      },
      "source": [
        "# Data Types"
      ]
    },
    {
      "cell_type": "markdown",
      "id": "5a9a8cd3",
      "metadata": {
        "id": "5a9a8cd3"
      },
      "source": [
        "## Numeric"
      ]
    },
    {
      "cell_type": "code",
      "execution_count": null,
      "id": "3217d802",
      "metadata": {
        "id": "3217d802"
      },
      "outputs": [],
      "source": [
        "import sys"
      ]
    },
    {
      "cell_type": "code",
      "execution_count": null,
      "id": "2fa04823",
      "metadata": {
        "id": "2fa04823",
        "outputId": "3a3274de-7c75-41e7-c265-8d339544edbe",
        "colab": {
          "base_uri": "https://localhost:8080/"
        }
      },
      "outputs": [
        {
          "output_type": "stream",
          "name": "stdout",
          "text": [
            "92.78\n",
            "<class 'float'>\n",
            "24\n",
            "92.78  is float? True\n"
          ]
        }
      ],
      "source": [
        "val2 = 92.78 # Float data type\n",
        "print(val2)\n",
        "print(type(val2)) # type of object\n",
        "print(sys.getsizeof(val2)) # size of float object in bytes\n",
        "print(val2, \" is float?\", isinstance(val2, float)) # Val2 is an instance of float"
      ]
    },
    {
      "cell_type": "code",
      "execution_count": null,
      "id": "61eda00f",
      "metadata": {
        "id": "61eda00f",
        "outputId": "a3d1edc7-3e1a-4c09-d76d-80afcdf30387",
        "colab": {
          "base_uri": "https://localhost:8080/"
        }
      },
      "outputs": [
        {
          "output_type": "stream",
          "name": "stdout",
          "text": [
            "(25+10j)\n",
            "<class 'complex'>\n",
            "32\n",
            "(25+10j)  is complex? True\n"
          ]
        }
      ],
      "source": [
        "val3 = 25 + 10j # Complex data type\n",
        "print(val3)\n",
        "print(type(val3)) # type of object\n",
        "print(sys.getsizeof(val3)) # size of float object in bytes\n",
        "print(val3, \" is complex?\", isinstance(val3, complex)) # val3 is an instance of complex"
      ]
    },
    {
      "cell_type": "markdown",
      "id": "d7c74ac7",
      "metadata": {
        "id": "d7c74ac7"
      },
      "source": [
        "## Boolean"
      ]
    },
    {
      "cell_type": "markdown",
      "id": "807bb3c7",
      "metadata": {
        "id": "807bb3c7"
      },
      "source": [
        "* Boolean data type can have only two possible values true or false."
      ]
    },
    {
      "cell_type": "code",
      "execution_count": null,
      "id": "052cf431",
      "metadata": {
        "id": "052cf431"
      },
      "outputs": [],
      "source": [
        "bool1=True"
      ]
    },
    {
      "cell_type": "code",
      "execution_count": null,
      "id": "9cb97c89",
      "metadata": {
        "id": "9cb97c89"
      },
      "outputs": [],
      "source": [
        "bool2=False"
      ]
    },
    {
      "cell_type": "code",
      "execution_count": null,
      "id": "0f453174",
      "metadata": {
        "id": "0f453174",
        "outputId": "5b5206b2-c792-4d8f-a986-82b349adc3de",
        "colab": {
          "base_uri": "https://localhost:8080/"
        }
      },
      "outputs": [
        {
          "output_type": "execute_result",
          "data": {
            "text/plain": [
              "bool"
            ]
          },
          "metadata": {},
          "execution_count": 44
        }
      ],
      "source": [
        "type(bool1)"
      ]
    },
    {
      "cell_type": "code",
      "execution_count": null,
      "id": "6211346a",
      "metadata": {
        "id": "6211346a",
        "outputId": "41116606-d1bb-4870-8534-bf91cfd156f5",
        "colab": {
          "base_uri": "https://localhost:8080/"
        }
      },
      "outputs": [
        {
          "output_type": "execute_result",
          "data": {
            "text/plain": [
              "True"
            ]
          },
          "metadata": {},
          "execution_count": 45
        }
      ],
      "source": [
        "isinstance(bool1, bool)"
      ]
    },
    {
      "cell_type": "code",
      "execution_count": null,
      "id": "8c600c49",
      "metadata": {
        "id": "8c600c49",
        "outputId": "c850b05f-789f-4f52-f504-8ea32cb1305f",
        "colab": {
          "base_uri": "https://localhost:8080/"
        }
      },
      "outputs": [
        {
          "output_type": "execute_result",
          "data": {
            "text/plain": [
              "False"
            ]
          },
          "metadata": {},
          "execution_count": 46
        }
      ],
      "source": [
        "bool(0)"
      ]
    },
    {
      "cell_type": "code",
      "execution_count": null,
      "id": "5b17409e",
      "metadata": {
        "id": "5b17409e",
        "outputId": "5f391916-ad88-49eb-8b40-470ce988f8c8",
        "colab": {
          "base_uri": "https://localhost:8080/"
        }
      },
      "outputs": [
        {
          "output_type": "execute_result",
          "data": {
            "text/plain": [
              "True"
            ]
          },
          "metadata": {},
          "execution_count": 47
        }
      ],
      "source": [
        "bool(-98) # Anything apart from 0 everything is True"
      ]
    },
    {
      "cell_type": "markdown",
      "id": "b40a9db7",
      "metadata": {
        "id": "b40a9db7"
      },
      "source": [
        "## String"
      ]
    },
    {
      "cell_type": "markdown",
      "id": "6580adac",
      "metadata": {
        "id": "6580adac"
      },
      "source": [
        "###  String creation"
      ]
    },
    {
      "cell_type": "code",
      "execution_count": null,
      "id": "54346673",
      "metadata": {
        "id": "54346673",
        "outputId": "0beb03ff-a436-4f47-a96d-83b2efab3aec",
        "colab": {
          "base_uri": "https://localhost:8080/"
        }
      },
      "outputs": [
        {
          "output_type": "stream",
          "name": "stdout",
          "text": [
            "HELLO PYTHON\n"
          ]
        }
      ],
      "source": [
        "str1 = \"HELLO PYTHON\"\n",
        "print(str1)"
      ]
    },
    {
      "cell_type": "code",
      "execution_count": null,
      "id": "34012e79",
      "metadata": {
        "id": "34012e79",
        "outputId": "037229fd-0450-4b4f-cfc6-29c71a8e1d5e",
        "colab": {
          "base_uri": "https://localhost:8080/"
        }
      },
      "outputs": [
        {
          "output_type": "stream",
          "name": "stdout",
          "text": [
            "Hello World\n"
          ]
        }
      ],
      "source": [
        "mystr = 'Hello World' # Define string using single quotes\n",
        "print(mystr)"
      ]
    },
    {
      "cell_type": "markdown",
      "id": "21e9ae35",
      "metadata": {
        "id": "21e9ae35"
      },
      "source": [
        "### String indexing"
      ]
    },
    {
      "cell_type": "code",
      "execution_count": null,
      "id": "cd4091f8",
      "metadata": {
        "id": "cd4091f8",
        "scrolled": true
      },
      "outputs": [],
      "source": [
        "str1='HELLO PYTHON'"
      ]
    },
    {
      "cell_type": "code",
      "execution_count": null,
      "id": "bb12a213",
      "metadata": {
        "id": "bb12a213",
        "outputId": "b6cf6bdd-2242-4664-ee24-7e0f822e501e",
        "colab": {
          "base_uri": "https://localhost:8080/",
          "height": 35
        }
      },
      "outputs": [
        {
          "output_type": "execute_result",
          "data": {
            "text/plain": [
              "' '"
            ],
            "application/vnd.google.colaboratory.intrinsic+json": {
              "type": "string"
            }
          },
          "metadata": {},
          "execution_count": 51
        }
      ],
      "source": [
        "str1[5] # First character in string \"str1\"\n"
      ]
    },
    {
      "cell_type": "code",
      "execution_count": null,
      "id": "dead0eea",
      "metadata": {
        "id": "dead0eea",
        "outputId": "09c0e930-05fb-43c5-ce19-195bb21546c7",
        "colab": {
          "base_uri": "https://localhost:8080/",
          "height": 35
        }
      },
      "outputs": [
        {
          "output_type": "execute_result",
          "data": {
            "text/plain": [
              "' '"
            ],
            "application/vnd.google.colaboratory.intrinsic+json": {
              "type": "string"
            }
          },
          "metadata": {},
          "execution_count": 52
        }
      ],
      "source": [
        "str1[-7]"
      ]
    },
    {
      "cell_type": "code",
      "execution_count": null,
      "id": "f4bc7dfc",
      "metadata": {
        "id": "f4bc7dfc",
        "outputId": "84eed333-2195-45b1-f3c0-a5423257dd07",
        "colab": {
          "base_uri": "https://localhost:8080/"
        }
      },
      "outputs": [
        {
          "output_type": "execute_result",
          "data": {
            "text/plain": [
              "12"
            ]
          },
          "metadata": {},
          "execution_count": 53
        }
      ],
      "source": [
        "len(str1) # Number of elements in given string."
      ]
    },
    {
      "cell_type": "code",
      "execution_count": null,
      "id": "2e238e59",
      "metadata": {
        "id": "2e238e59",
        "outputId": "00e692e6-e182-42c3-b068-9e47fe981583",
        "colab": {
          "base_uri": "https://localhost:8080/",
          "height": 35
        }
      },
      "outputs": [
        {
          "output_type": "execute_result",
          "data": {
            "text/plain": [
              "'N'"
            ],
            "application/vnd.google.colaboratory.intrinsic+json": {
              "type": "string"
            }
          },
          "metadata": {},
          "execution_count": 54
        }
      ],
      "source": [
        "str1[len(str1)-1] # Last character in string using len functio"
      ]
    },
    {
      "cell_type": "code",
      "execution_count": null,
      "id": "686c1440",
      "metadata": {
        "id": "686c1440",
        "outputId": "5bcd24c9-cbce-4dff-a27e-3746383d6d91",
        "colab": {
          "base_uri": "https://localhost:8080/",
          "height": 35
        }
      },
      "outputs": [
        {
          "output_type": "execute_result",
          "data": {
            "text/plain": [
              "'N'"
            ],
            "application/vnd.google.colaboratory.intrinsic+json": {
              "type": "string"
            }
          },
          "metadata": {},
          "execution_count": 55
        }
      ],
      "source": [
        "str1[-1] # Last character in string\n"
      ]
    },
    {
      "cell_type": "code",
      "execution_count": null,
      "id": "ae641b47",
      "metadata": {
        "id": "ae641b47",
        "outputId": "3ff4ca38-2067-40aa-a832-f83e8da8628f",
        "colab": {
          "base_uri": "https://localhost:8080/",
          "height": 35
        }
      },
      "outputs": [
        {
          "output_type": "execute_result",
          "data": {
            "text/plain": [
              "'N'"
            ],
            "application/vnd.google.colaboratory.intrinsic+json": {
              "type": "string"
            }
          },
          "metadata": {},
          "execution_count": 56
        }
      ],
      "source": [
        "str1[11]"
      ]
    },
    {
      "cell_type": "code",
      "execution_count": null,
      "id": "123531e7",
      "metadata": {
        "id": "123531e7",
        "outputId": "c80c85e0-c0fb-4826-d3c0-e91d46baf04b",
        "colab": {
          "base_uri": "https://localhost:8080/",
          "height": 35
        }
      },
      "outputs": [
        {
          "output_type": "execute_result",
          "data": {
            "text/plain": [
              "'P'"
            ],
            "application/vnd.google.colaboratory.intrinsic+json": {
              "type": "string"
            }
          },
          "metadata": {},
          "execution_count": 57
        }
      ],
      "source": [
        "str1[6] #Fetch 7th element of the string"
      ]
    },
    {
      "cell_type": "code",
      "execution_count": null,
      "id": "47f9ed1c",
      "metadata": {
        "id": "47f9ed1c",
        "outputId": "5d6e79d1-b10f-495e-daa6-d4c1ff3707d8",
        "colab": {
          "base_uri": "https://localhost:8080/",
          "height": 35
        }
      },
      "outputs": [
        {
          "output_type": "execute_result",
          "data": {
            "text/plain": [
              "' '"
            ],
            "application/vnd.google.colaboratory.intrinsic+json": {
              "type": "string"
            }
          },
          "metadata": {},
          "execution_count": 58
        }
      ],
      "source": [
        "str1[5]"
      ]
    },
    {
      "cell_type": "markdown",
      "id": "617e14ce",
      "metadata": {
        "id": "617e14ce"
      },
      "source": [
        "### String Slicing"
      ]
    },
    {
      "cell_type": "code",
      "execution_count": null,
      "id": "03b4199e",
      "metadata": {
        "id": "03b4199e"
      },
      "outputs": [],
      "source": [
        "str1='HELLO PYTHON'"
      ]
    },
    {
      "cell_type": "code",
      "execution_count": null,
      "id": "803eef0b",
      "metadata": {
        "id": "803eef0b",
        "outputId": "0803b4a1-f687-479c-b136-195c287d7aa5",
        "colab": {
          "base_uri": "https://localhost:8080/",
          "height": 35
        }
      },
      "outputs": [
        {
          "output_type": "execute_result",
          "data": {
            "text/plain": [
              "'HELLO PYTHON'"
            ],
            "application/vnd.google.colaboratory.intrinsic+json": {
              "type": "string"
            }
          },
          "metadata": {},
          "execution_count": 60
        }
      ],
      "source": [
        "str1"
      ]
    },
    {
      "cell_type": "code",
      "execution_count": null,
      "id": "51e851cb",
      "metadata": {
        "id": "51e851cb",
        "outputId": "8b18d621-2138-4c34-a9b1-3ba3c2178e62",
        "colab": {
          "base_uri": "https://localhost:8080/",
          "height": 35
        }
      },
      "outputs": [
        {
          "output_type": "execute_result",
          "data": {
            "text/plain": [
              "'HELLO'"
            ],
            "application/vnd.google.colaboratory.intrinsic+json": {
              "type": "string"
            }
          },
          "metadata": {},
          "execution_count": 61
        }
      ],
      "source": [
        "str1[0:5] ## start:end"
      ]
    },
    {
      "cell_type": "code",
      "execution_count": null,
      "id": "8146ce76",
      "metadata": {
        "id": "8146ce76",
        "outputId": "aca670a3-2b83-4731-edf2-13c76c62c622",
        "colab": {
          "base_uri": "https://localhost:8080/",
          "height": 35
        }
      },
      "outputs": [
        {
          "output_type": "execute_result",
          "data": {
            "text/plain": [
              "'HELLO PYTHON'"
            ],
            "application/vnd.google.colaboratory.intrinsic+json": {
              "type": "string"
            }
          },
          "metadata": {},
          "execution_count": 62
        }
      ],
      "source": [
        "str1"
      ]
    },
    {
      "cell_type": "code",
      "execution_count": null,
      "id": "0882fb00",
      "metadata": {
        "id": "0882fb00"
      },
      "outputs": [],
      "source": [
        "str2='Data is new fuel'\n",
        "# Task:-Extract new and data from above string"
      ]
    },
    {
      "cell_type": "code",
      "execution_count": null,
      "id": "ed2661d2",
      "metadata": {
        "id": "ed2661d2",
        "outputId": "b3846eec-1654-41f7-de26-f98619cd5c30",
        "colab": {
          "base_uri": "https://localhost:8080/",
          "height": 35
        }
      },
      "outputs": [
        {
          "output_type": "execute_result",
          "data": {
            "text/plain": [
              "'HELLO PYTHON'"
            ],
            "application/vnd.google.colaboratory.intrinsic+json": {
              "type": "string"
            }
          },
          "metadata": {},
          "execution_count": 64
        }
      ],
      "source": [
        "str1[:]"
      ]
    },
    {
      "cell_type": "code",
      "execution_count": null,
      "id": "23b33ead",
      "metadata": {
        "id": "23b33ead",
        "outputId": "ccbeda45-f8eb-49e7-a07b-a25b8089c223",
        "colab": {
          "base_uri": "https://localhost:8080/",
          "height": 35
        }
      },
      "outputs": [
        {
          "output_type": "execute_result",
          "data": {
            "text/plain": [
              "'LO PYTHON'"
            ],
            "application/vnd.google.colaboratory.intrinsic+json": {
              "type": "string"
            }
          },
          "metadata": {},
          "execution_count": 65
        }
      ],
      "source": [
        "str1[3:]"
      ]
    },
    {
      "cell_type": "code",
      "execution_count": null,
      "id": "d4627050",
      "metadata": {
        "id": "d4627050",
        "outputId": "13cb3b8c-e817-463a-d744-1f70d43f5f5f",
        "colab": {
          "base_uri": "https://localhost:8080/",
          "height": 35
        }
      },
      "outputs": [
        {
          "output_type": "execute_result",
          "data": {
            "text/plain": [
              "'HELLO '"
            ],
            "application/vnd.google.colaboratory.intrinsic+json": {
              "type": "string"
            }
          },
          "metadata": {},
          "execution_count": 66
        }
      ],
      "source": [
        "str1[:6]"
      ]
    },
    {
      "cell_type": "code",
      "execution_count": null,
      "id": "3fe62f83",
      "metadata": {
        "id": "3fe62f83",
        "outputId": "21a68d87-f8f5-46c0-f09d-8723a237507d",
        "colab": {
          "base_uri": "https://localhost:8080/",
          "height": 35
        }
      },
      "outputs": [
        {
          "output_type": "execute_result",
          "data": {
            "text/plain": [
              "'HELLO PYTHON'"
            ],
            "application/vnd.google.colaboratory.intrinsic+json": {
              "type": "string"
            }
          },
          "metadata": {},
          "execution_count": 67
        }
      ],
      "source": [
        "str1"
      ]
    },
    {
      "cell_type": "code",
      "execution_count": null,
      "id": "dae41c90",
      "metadata": {
        "id": "dae41c90",
        "outputId": "01ee7938-a2ef-4a1f-97aa-e7af97cbb606",
        "colab": {
          "base_uri": "https://localhost:8080/",
          "height": 35
        }
      },
      "outputs": [
        {
          "output_type": "execute_result",
          "data": {
            "text/plain": [
              "''"
            ],
            "application/vnd.google.colaboratory.intrinsic+json": {
              "type": "string"
            }
          },
          "metadata": {},
          "execution_count": 68
        }
      ],
      "source": [
        "str1[-5:-10]"
      ]
    },
    {
      "cell_type": "code",
      "execution_count": null,
      "id": "5b8ffccc",
      "metadata": {
        "id": "5b8ffccc",
        "outputId": "82372320-4ed3-4f35-9617-f8c6990541c5",
        "colab": {
          "base_uri": "https://localhost:8080/",
          "height": 35
        }
      },
      "outputs": [
        {
          "output_type": "execute_result",
          "data": {
            "text/plain": [
              "'LLO P'"
            ],
            "application/vnd.google.colaboratory.intrinsic+json": {
              "type": "string"
            }
          },
          "metadata": {},
          "execution_count": 69
        }
      ],
      "source": [
        "str1[-10:-5]"
      ]
    },
    {
      "cell_type": "code",
      "execution_count": null,
      "id": "d5094f73",
      "metadata": {
        "id": "d5094f73",
        "outputId": "6b97682a-79b3-4747-dcce-c9f9a6e9d29f",
        "colab": {
          "base_uri": "https://localhost:8080/",
          "height": 35
        }
      },
      "outputs": [
        {
          "output_type": "execute_result",
          "data": {
            "text/plain": [
              "'HELLO PYTHON'"
            ],
            "application/vnd.google.colaboratory.intrinsic+json": {
              "type": "string"
            }
          },
          "metadata": {},
          "execution_count": 70
        }
      ],
      "source": [
        "str1"
      ]
    },
    {
      "cell_type": "code",
      "execution_count": null,
      "id": "27040e35",
      "metadata": {
        "id": "27040e35",
        "outputId": "013ec4db-d92c-400c-9e69-f3d53851c31e",
        "colab": {
          "base_uri": "https://localhost:8080/",
          "height": 35
        }
      },
      "outputs": [
        {
          "output_type": "execute_result",
          "data": {
            "text/plain": [
              "'NHY LE'"
            ],
            "application/vnd.google.colaboratory.intrinsic+json": {
              "type": "string"
            }
          },
          "metadata": {},
          "execution_count": 71
        }
      ],
      "source": [
        "# str1[start:end:step]\n",
        "\n",
        "str1[::-2]"
      ]
    },
    {
      "cell_type": "markdown",
      "id": "26ea1f22",
      "metadata": {
        "id": "26ea1f22"
      },
      "source": [
        "### Update and Delete string"
      ]
    },
    {
      "cell_type": "markdown",
      "id": "8be8dec6",
      "metadata": {
        "id": "8be8dec6"
      },
      "source": [
        "* Strings are immutable which means elements of a\n",
        "string cannot be changed once the they are assigned with\n",
        "any values\n"
      ]
    },
    {
      "cell_type": "code",
      "execution_count": null,
      "id": "b48e5be5",
      "metadata": {
        "colab": {
          "base_uri": "https://localhost:8080/",
          "height": 35
        },
        "id": "b48e5be5",
        "outputId": "a79d701c-7bcd-42b2-e098-1c8c22fed195"
      },
      "outputs": [
        {
          "output_type": "execute_result",
          "data": {
            "text/plain": [
              "'HELLO PYTHON'"
            ],
            "application/vnd.google.colaboratory.intrinsic+json": {
              "type": "string"
            }
          },
          "metadata": {},
          "execution_count": 72
        }
      ],
      "source": [
        "str1"
      ]
    },
    {
      "cell_type": "code",
      "execution_count": null,
      "id": "67aec6de",
      "metadata": {
        "id": "67aec6de"
      },
      "outputs": [],
      "source": []
    },
    {
      "cell_type": "code",
      "execution_count": null,
      "id": "23c958e1",
      "metadata": {
        "id": "23c958e1"
      },
      "outputs": [],
      "source": [
        "str3=str1.replace('HE','HI')\n",
        "# string.replace('character to replace','by what value\n",
        "#the character should be replaced')"
      ]
    },
    {
      "cell_type": "code",
      "execution_count": null,
      "id": "b5d233be",
      "metadata": {
        "id": "b5d233be",
        "outputId": "b4e32bb2-ef2f-4fcc-bd45-fa24d132938e",
        "colab": {
          "base_uri": "https://localhost:8080/",
          "height": 35
        }
      },
      "outputs": [
        {
          "output_type": "execute_result",
          "data": {
            "text/plain": [
              "'HELLO PYTHON'"
            ],
            "application/vnd.google.colaboratory.intrinsic+json": {
              "type": "string"
            }
          },
          "metadata": {},
          "execution_count": 76
        }
      ],
      "source": [
        "str1"
      ]
    },
    {
      "cell_type": "code",
      "execution_count": null,
      "id": "10f2206b",
      "metadata": {
        "id": "10f2206b",
        "outputId": "43d2c877-d8de-4687-d61b-aa6447e49443",
        "colab": {
          "base_uri": "https://localhost:8080/",
          "height": 35
        }
      },
      "outputs": [
        {
          "output_type": "execute_result",
          "data": {
            "text/plain": [
              "'HILLO PYTHON'"
            ],
            "application/vnd.google.colaboratory.intrinsic+json": {
              "type": "string"
            }
          },
          "metadata": {},
          "execution_count": 77
        }
      ],
      "source": [
        "str3"
      ]
    },
    {
      "cell_type": "code",
      "execution_count": null,
      "id": "14da5e50",
      "metadata": {
        "id": "14da5e50",
        "scrolled": true
      },
      "outputs": [],
      "source": [
        "del str1 # Delete a string"
      ]
    },
    {
      "cell_type": "code",
      "execution_count": null,
      "id": "1500df89",
      "metadata": {
        "id": "1500df89",
        "outputId": "695ec553-c84a-4e7d-d59b-8da232f108c3",
        "colab": {
          "base_uri": "https://localhost:8080/",
          "height": 141
        }
      },
      "outputs": [
        {
          "output_type": "error",
          "ename": "NameError",
          "evalue": "name 'str1' is not defined",
          "traceback": [
            "\u001b[0;31m---------------------------------------------------------------------------\u001b[0m",
            "\u001b[0;31mNameError\u001b[0m                                 Traceback (most recent call last)",
            "\u001b[0;32m<ipython-input-79-3a5be569e6ba>\u001b[0m in \u001b[0;36m<cell line: 1>\u001b[0;34m()\u001b[0m\n\u001b[0;32m----> 1\u001b[0;31m \u001b[0mstr1\u001b[0m\u001b[0;34m\u001b[0m\u001b[0;34m\u001b[0m\u001b[0m\n\u001b[0m",
            "\u001b[0;31mNameError\u001b[0m: name 'str1' is not defined"
          ]
        }
      ],
      "source": [
        "str1"
      ]
    },
    {
      "cell_type": "markdown",
      "id": "b5b59f30",
      "metadata": {
        "id": "b5b59f30"
      },
      "source": [
        "### String concatenation\n"
      ]
    },
    {
      "cell_type": "code",
      "execution_count": null,
      "id": "4c2cc25b",
      "metadata": {
        "id": "4c2cc25b",
        "outputId": "f55fdcad-dc43-4143-92fd-946e59172519",
        "colab": {
          "base_uri": "https://localhost:8080/",
          "height": 35
        }
      },
      "outputs": [
        {
          "output_type": "execute_result",
          "data": {
            "text/plain": [
              "'DataScience'"
            ],
            "application/vnd.google.colaboratory.intrinsic+json": {
              "type": "string"
            }
          },
          "metadata": {},
          "execution_count": 80
        }
      ],
      "source": [
        "#  String concatenation\n",
        "s1 = \"Data\"\n",
        "s2 = \"Science\"\n",
        "s3=s1 + s2\n",
        "s3"
      ]
    },
    {
      "cell_type": "code",
      "execution_count": null,
      "id": "8b12292c",
      "metadata": {
        "id": "8b12292c",
        "outputId": "f33e2346-f719-48ed-9c3e-ccab8193d53a",
        "colab": {
          "base_uri": "https://localhost:8080/"
        }
      },
      "outputs": [
        {
          "output_type": "stream",
          "name": "stdout",
          "text": [
            "30\n"
          ]
        }
      ],
      "source": [
        "a=10\n",
        "b=20\n",
        "print(a+b)"
      ]
    },
    {
      "cell_type": "code",
      "execution_count": null,
      "id": "269ba879",
      "metadata": {
        "id": "269ba879",
        "outputId": "9b15b231-98e9-4e15-8733-739a56624f04",
        "colab": {
          "base_uri": "https://localhost:8080/",
          "height": 176
        }
      },
      "outputs": [
        {
          "output_type": "error",
          "ename": "TypeError",
          "evalue": "can't multiply sequence by non-int of type 'float'",
          "traceback": [
            "\u001b[0;31m---------------------------------------------------------------------------\u001b[0m",
            "\u001b[0;31mTypeError\u001b[0m                                 Traceback (most recent call last)",
            "\u001b[0;32m<ipython-input-82-439c1797ec16>\u001b[0m in \u001b[0;36m<cell line: 2>\u001b[0;34m()\u001b[0m\n\u001b[1;32m      1\u001b[0m \u001b[0ms1\u001b[0m \u001b[0;34m=\u001b[0m \u001b[0;34m\"data\"\u001b[0m\u001b[0;34m\u001b[0m\u001b[0;34m\u001b[0m\u001b[0m\n\u001b[0;32m----> 2\u001b[0;31m \u001b[0ms2\u001b[0m \u001b[0;34m=\u001b[0m \u001b[0ms1\u001b[0m\u001b[0;34m*\u001b[0m\u001b[0;36m4.5\u001b[0m\u001b[0;34m\u001b[0m\u001b[0;34m\u001b[0m\u001b[0m\n\u001b[0m\u001b[1;32m      3\u001b[0m \u001b[0ms2\u001b[0m\u001b[0;34m\u001b[0m\u001b[0;34m\u001b[0m\u001b[0m\n",
            "\u001b[0;31mTypeError\u001b[0m: can't multiply sequence by non-int of type 'float'"
          ]
        }
      ],
      "source": [
        "s1 = \"data\"\n",
        "s2 = s1*4.5\n",
        "s2"
      ]
    },
    {
      "cell_type": "code",
      "execution_count": null,
      "id": "668e22ee",
      "metadata": {
        "colab": {
          "base_uri": "https://localhost:8080/",
          "height": 35
        },
        "id": "668e22ee",
        "outputId": "572f3f5c-3b4b-4ae1-d81e-631b1a296adc",
        "scrolled": true
      },
      "outputs": [
        {
          "output_type": "execute_result",
          "data": {
            "text/plain": [
              "'datascience'"
            ],
            "application/vnd.google.colaboratory.intrinsic+json": {
              "type": "string"
            }
          },
          "metadata": {},
          "execution_count": 83
        }
      ],
      "source": [
        "'data'+'science'"
      ]
    },
    {
      "cell_type": "code",
      "execution_count": null,
      "id": "b9a1bc0e",
      "metadata": {
        "id": "b9a1bc0e"
      },
      "outputs": [],
      "source": [
        "#  String concatenation\n",
        "s1 = \"Data\"\n",
        "s2 = \"Science\"\n",
        "s3 = s1 +\" \"+ s2"
      ]
    },
    {
      "cell_type": "code",
      "execution_count": null,
      "id": "d8f423bd",
      "metadata": {
        "id": "d8f423bd",
        "outputId": "edfb8c75-8f54-47f2-83f2-694bc9f9968a",
        "colab": {
          "base_uri": "https://localhost:8080/"
        }
      },
      "outputs": [
        {
          "output_type": "stream",
          "name": "stdout",
          "text": [
            "Data Science\n"
          ]
        }
      ],
      "source": [
        "\n",
        "print(s3)"
      ]
    },
    {
      "cell_type": "code",
      "execution_count": null,
      "id": "22955b11",
      "metadata": {
        "id": "22955b11",
        "outputId": "20362dee-ebe7-473e-e011-3593536dfec8",
        "colab": {
          "base_uri": "https://localhost:8080/"
        }
      },
      "outputs": [
        {
          "output_type": "stream",
          "name": "stdout",
          "text": [
            "Enter your first name : abc\n",
            "Enter your last name : xyz\n",
            "Your full name =  abc xyz\n"
          ]
        }
      ],
      "source": [
        "first = input(\"Enter your first name : \")\n",
        "last = input(\"Enter your last name : \")\n",
        "full_name = first + \" \" + last\n",
        "print(\"Your full name = \",full_name)"
      ]
    },
    {
      "cell_type": "code",
      "execution_count": null,
      "id": "e826d1ce",
      "metadata": {
        "id": "e826d1ce"
      },
      "outputs": [],
      "source": []
    },
    {
      "cell_type": "markdown",
      "id": "7b1f3379",
      "metadata": {
        "id": "7b1f3379"
      },
      "source": [
        "### String Membership"
      ]
    },
    {
      "cell_type": "code",
      "execution_count": null,
      "id": "86d2b79a",
      "metadata": {
        "id": "86d2b79a"
      },
      "outputs": [],
      "source": [
        "# String membership\n",
        "mystr1 = \"Hello Everyone\""
      ]
    },
    {
      "cell_type": "code",
      "execution_count": null,
      "id": "073089bb",
      "metadata": {
        "id": "073089bb",
        "outputId": "061f3e6e-a59d-4a6a-e7f7-1f74c7d739dd",
        "colab": {
          "base_uri": "https://localhost:8080/"
        }
      },
      "outputs": [
        {
          "output_type": "execute_result",
          "data": {
            "text/plain": [
              "True"
            ]
          },
          "metadata": {},
          "execution_count": 88
        }
      ],
      "source": [
        "'Hello' in mystr1 # Check whether\n",
        "#substring \"Hello\" is present in given string"
      ]
    },
    {
      "cell_type": "code",
      "execution_count": null,
      "id": "8c90f7d0",
      "metadata": {
        "id": "8c90f7d0",
        "outputId": "5717fcbe-0b8d-4779-a3b9-349aee028103",
        "colab": {
          "base_uri": "https://localhost:8080/"
        }
      },
      "outputs": [
        {
          "output_type": "execute_result",
          "data": {
            "text/plain": [
              "False"
            ]
          },
          "metadata": {},
          "execution_count": 89
        }
      ],
      "source": [
        "'hello' in mystr1"
      ]
    },
    {
      "cell_type": "markdown",
      "id": "8ece4e99",
      "metadata": {
        "id": "8ece4e99"
      },
      "source": [
        "### String Partioning"
      ]
    },
    {
      "cell_type": "code",
      "execution_count": null,
      "id": "0ba08747",
      "metadata": {
        "id": "0ba08747",
        "outputId": "c95c44eb-33a5-46f3-ec90-9e6cd0b7d0c0",
        "colab": {
          "base_uri": "https://localhost:8080/"
        }
      },
      "outputs": [
        {
          "output_type": "execute_result",
          "data": {
            "text/plain": [
              "('Natural language processing ', 'with', ' Python and R and Java')"
            ]
          },
          "metadata": {},
          "execution_count": 90
        }
      ],
      "source": [
        "\"\"\"\n",
        "The partition() method searches for a specified string and splits the string into\n",
        " - The first element contains the part before the argument string.\n",
        " - The second element contains the argument string.\n",
        " - The third element contains the part after the argument string.\n",
        "\"\"\"\n",
        "str5 = \"Natural language processing with Python and R and Java\"\n",
        "L = str5.partition(\"with\")\n",
        "L"
      ]
    },
    {
      "cell_type": "code",
      "execution_count": null,
      "id": "18caaae1",
      "metadata": {
        "id": "18caaae1",
        "outputId": "7df70f89-3374-4cbf-a4ed-f9f8d7a3d7c4",
        "colab": {
          "base_uri": "https://localhost:8080/",
          "height": 35
        }
      },
      "outputs": [
        {
          "output_type": "execute_result",
          "data": {
            "text/plain": [
              "'Natural language processing with Python and R and Java'"
            ],
            "application/vnd.google.colaboratory.intrinsic+json": {
              "type": "string"
            }
          },
          "metadata": {},
          "execution_count": 91
        }
      ],
      "source": [
        "str5"
      ]
    },
    {
      "cell_type": "code",
      "execution_count": null,
      "id": "4ee663bd",
      "metadata": {
        "id": "4ee663bd",
        "outputId": "20788361-7732-48e2-ab9d-6dda6abf1b06",
        "colab": {
          "base_uri": "https://localhost:8080/"
        }
      },
      "outputs": [
        {
          "output_type": "execute_result",
          "data": {
            "text/plain": [
              "('Natural language processing ', 'with', ' Python and R and Java')"
            ]
          },
          "metadata": {},
          "execution_count": 92
        }
      ],
      "source": [
        "L"
      ]
    },
    {
      "cell_type": "markdown",
      "id": "8c3d4fc9",
      "metadata": {
        "id": "8c3d4fc9"
      },
      "source": [
        "### String Functions"
      ]
    },
    {
      "cell_type": "code",
      "execution_count": null,
      "id": "be81f2fa",
      "metadata": {
        "id": "be81f2fa",
        "outputId": "6258bb2d-13f1-4ca7-e662-d13145602ecd",
        "colab": {
          "base_uri": "https://localhost:8080/",
          "height": 35
        }
      },
      "outputs": [
        {
          "output_type": "execute_result",
          "data": {
            "text/plain": [
              "'      Hello Everyone      '"
            ],
            "application/vnd.google.colaboratory.intrinsic+json": {
              "type": "string"
            }
          },
          "metadata": {},
          "execution_count": 93
        }
      ],
      "source": [
        "mystr2 = \"      Hello Everyone      \"\n",
        "mystr2"
      ]
    },
    {
      "cell_type": "code",
      "execution_count": null,
      "id": "d409e01e",
      "metadata": {
        "id": "d409e01e",
        "outputId": "c465b620-c255-4cfe-9c38-59dcbaf5c2bd",
        "colab": {
          "base_uri": "https://localhost:8080/"
        }
      },
      "outputs": [
        {
          "output_type": "execute_result",
          "data": {
            "text/plain": [
              "3"
            ]
          },
          "metadata": {},
          "execution_count": 94
        }
      ],
      "source": [
        "mystr2.count('e')## count the number of occurence of given substring in given string"
      ]
    },
    {
      "cell_type": "code",
      "execution_count": null,
      "id": "3855fdc1",
      "metadata": {
        "id": "3855fdc1",
        "outputId": "b392989e-9c75-4bb2-fa44-0f4e04bd7a49",
        "colab": {
          "base_uri": "https://localhost:8080/"
        }
      },
      "outputs": [
        {
          "output_type": "execute_result",
          "data": {
            "text/plain": [
              "6"
            ]
          },
          "metadata": {},
          "execution_count": 95
        }
      ],
      "source": [
        "mystr2.index('H')"
      ]
    },
    {
      "cell_type": "code",
      "execution_count": null,
      "id": "6e52d5b9",
      "metadata": {
        "id": "6e52d5b9",
        "outputId": "18324f7d-5cfc-469c-e7fe-3fd33de05fea",
        "colab": {
          "base_uri": "https://localhost:8080/",
          "height": 35
        }
      },
      "outputs": [
        {
          "output_type": "execute_result",
          "data": {
            "text/plain": [
              "'      Hello Everyone      '"
            ],
            "application/vnd.google.colaboratory.intrinsic+json": {
              "type": "string"
            }
          },
          "metadata": {},
          "execution_count": 96
        }
      ],
      "source": [
        "mystr2"
      ]
    },
    {
      "cell_type": "code",
      "execution_count": null,
      "id": "e7a3b771",
      "metadata": {
        "id": "e7a3b771",
        "outputId": "877055b9-9875-4540-8974-f579e1ba8507",
        "colab": {
          "base_uri": "https://localhost:8080/",
          "height": 35
        }
      },
      "outputs": [
        {
          "output_type": "execute_result",
          "data": {
            "text/plain": [
              "'Hello Everyone'"
            ],
            "application/vnd.google.colaboratory.intrinsic+json": {
              "type": "string"
            }
          },
          "metadata": {},
          "execution_count": 97
        }
      ],
      "source": [
        "mystr2.strip()"
      ]
    },
    {
      "cell_type": "code",
      "execution_count": null,
      "id": "0c5a67a2",
      "metadata": {
        "id": "0c5a67a2",
        "outputId": "04c666f8-3322-4ce8-fbb4-14125d2c9767",
        "colab": {
          "base_uri": "https://localhost:8080/",
          "height": 35
        }
      },
      "outputs": [
        {
          "output_type": "execute_result",
          "data": {
            "text/plain": [
              "'      Hello Everyone      '"
            ],
            "application/vnd.google.colaboratory.intrinsic+json": {
              "type": "string"
            }
          },
          "metadata": {},
          "execution_count": 98
        }
      ],
      "source": [
        "mystr2"
      ]
    },
    {
      "cell_type": "code",
      "execution_count": null,
      "id": "ed2b80db",
      "metadata": {
        "id": "ed2b80db"
      },
      "outputs": [],
      "source": [
        "str1=mystr2.strip()"
      ]
    },
    {
      "cell_type": "code",
      "execution_count": null,
      "id": "822cbd37",
      "metadata": {
        "id": "822cbd37",
        "outputId": "4e375dc4-9dc0-4ce3-8016-c33612aede94",
        "scrolled": true,
        "colab": {
          "base_uri": "https://localhost:8080/",
          "height": 35
        }
      },
      "outputs": [
        {
          "output_type": "execute_result",
          "data": {
            "text/plain": [
              "'Hello Everyone'"
            ],
            "application/vnd.google.colaboratory.intrinsic+json": {
              "type": "string"
            }
          },
          "metadata": {},
          "execution_count": 100
        }
      ],
      "source": [
        "str1"
      ]
    },
    {
      "cell_type": "code",
      "execution_count": null,
      "id": "6af99c50",
      "metadata": {
        "id": "6af99c50",
        "outputId": "c9ec54e6-3439-4ab9-cd20-f4d2e2b573f0",
        "colab": {
          "base_uri": "https://localhost:8080/",
          "height": 35
        }
      },
      "outputs": [
        {
          "output_type": "execute_result",
          "data": {
            "text/plain": [
              "'      Hello Everyone      '"
            ],
            "application/vnd.google.colaboratory.intrinsic+json": {
              "type": "string"
            }
          },
          "metadata": {},
          "execution_count": 101
        }
      ],
      "source": [
        "mystr2"
      ]
    },
    {
      "cell_type": "code",
      "execution_count": null,
      "id": "adfd0c11",
      "metadata": {
        "id": "adfd0c11",
        "scrolled": true,
        "outputId": "6536e07c-c885-4737-ce76-8f1f0433d403",
        "colab": {
          "base_uri": "https://localhost:8080/",
          "height": 35
        }
      },
      "outputs": [
        {
          "output_type": "execute_result",
          "data": {
            "text/plain": [
              "'      Hello Everyone'"
            ],
            "application/vnd.google.colaboratory.intrinsic+json": {
              "type": "string"
            }
          },
          "metadata": {},
          "execution_count": 102
        }
      ],
      "source": [
        "mystr2.rstrip() # Removes all whitespaces at the end of the string"
      ]
    },
    {
      "cell_type": "code",
      "execution_count": null,
      "id": "ddba005e",
      "metadata": {
        "id": "ddba005e",
        "scrolled": true,
        "outputId": "102d192f-d221-4f40-fc1b-2379d58f0a99",
        "colab": {
          "base_uri": "https://localhost:8080/",
          "height": 35
        }
      },
      "outputs": [
        {
          "output_type": "execute_result",
          "data": {
            "text/plain": [
              "'Hello Everyone      '"
            ],
            "application/vnd.google.colaboratory.intrinsic+json": {
              "type": "string"
            }
          },
          "metadata": {},
          "execution_count": 103
        }
      ],
      "source": [
        "mystr2.lstrip() # Removes all whitespaces at the begining of the string"
      ]
    },
    {
      "cell_type": "code",
      "execution_count": null,
      "id": "c747149b",
      "metadata": {
        "id": "c747149b",
        "outputId": "ff8756fb-59e3-4ed1-954e-3294fe938246",
        "colab": {
          "base_uri": "https://localhost:8080/",
          "height": 35
        }
      },
      "outputs": [
        {
          "output_type": "execute_result",
          "data": {
            "text/plain": [
              "'      Hello Everyone      '"
            ],
            "application/vnd.google.colaboratory.intrinsic+json": {
              "type": "string"
            }
          },
          "metadata": {},
          "execution_count": 104
        }
      ],
      "source": [
        "mystr2"
      ]
    },
    {
      "cell_type": "code",
      "execution_count": null,
      "id": "b7afef19",
      "metadata": {
        "id": "b7afef19",
        "outputId": "e914ea70-e7d7-4508-db46-dd39567764b9",
        "colab": {
          "base_uri": "https://localhost:8080/",
          "height": 35
        }
      },
      "outputs": [
        {
          "output_type": "execute_result",
          "data": {
            "text/plain": [
              "'*********Hello Everyone***********All the Best**********'"
            ],
            "application/vnd.google.colaboratory.intrinsic+json": {
              "type": "string"
            }
          },
          "metadata": {},
          "execution_count": 105
        }
      ],
      "source": [
        "mystr2 = \"*********Hello Everyone***********All the Best**********\"\n",
        "mystr2"
      ]
    },
    {
      "cell_type": "code",
      "execution_count": null,
      "id": "dbb00304",
      "metadata": {
        "id": "dbb00304",
        "scrolled": true,
        "outputId": "52ea7e50-7c19-40d9-fe50-286f1b0eb957",
        "colab": {
          "base_uri": "https://localhost:8080/",
          "height": 35
        }
      },
      "outputs": [
        {
          "output_type": "execute_result",
          "data": {
            "text/plain": [
              "'Hello Everyone***********All the Best'"
            ],
            "application/vnd.google.colaboratory.intrinsic+json": {
              "type": "string"
            }
          },
          "metadata": {},
          "execution_count": 106
        }
      ],
      "source": [
        "mystr2.strip('*') # Removes all '*' characters from begining\n",
        "#& end of the string"
      ]
    },
    {
      "cell_type": "code",
      "execution_count": null,
      "id": "af7c9b10",
      "metadata": {
        "id": "af7c9b10"
      },
      "outputs": [],
      "source": [
        "mystr2='Hello PYTHON'"
      ]
    },
    {
      "cell_type": "code",
      "execution_count": null,
      "id": "9a08cfda",
      "metadata": {
        "id": "9a08cfda",
        "outputId": "a4fc5735-aa86-4ba6-e187-ff561af33b17",
        "colab": {
          "base_uri": "https://localhost:8080/",
          "height": 35
        }
      },
      "outputs": [
        {
          "output_type": "execute_result",
          "data": {
            "text/plain": [
              "'hello python'"
            ],
            "application/vnd.google.colaboratory.intrinsic+json": {
              "type": "string"
            }
          },
          "metadata": {},
          "execution_count": 108
        }
      ],
      "source": [
        "mystr2.lower()"
      ]
    },
    {
      "cell_type": "code",
      "execution_count": null,
      "id": "340e2449",
      "metadata": {
        "id": "340e2449",
        "outputId": "6d241566-1962-44fb-ecb7-0175c3f9e15c",
        "scrolled": false,
        "colab": {
          "base_uri": "https://localhost:8080/",
          "height": 35
        }
      },
      "outputs": [
        {
          "output_type": "execute_result",
          "data": {
            "text/plain": [
              "'HELLO PYTHON'"
            ],
            "application/vnd.google.colaboratory.intrinsic+json": {
              "type": "string"
            }
          },
          "metadata": {},
          "execution_count": 109
        }
      ],
      "source": [
        "mystr2.upper()"
      ]
    },
    {
      "cell_type": "code",
      "execution_count": null,
      "id": "2ee4cf65",
      "metadata": {
        "id": "2ee4cf65",
        "outputId": "7c7902c7-2373-4fbe-cc6d-bacf6d757c09",
        "colab": {
          "base_uri": "https://localhost:8080/",
          "height": 35
        }
      },
      "outputs": [
        {
          "output_type": "execute_result",
          "data": {
            "text/plain": [
              "'Hello PYTHON'"
            ],
            "application/vnd.google.colaboratory.intrinsic+json": {
              "type": "string"
            }
          },
          "metadata": {},
          "execution_count": 110
        }
      ],
      "source": [
        "mystr2"
      ]
    },
    {
      "cell_type": "code",
      "execution_count": null,
      "id": "fad85656",
      "metadata": {
        "id": "fad85656",
        "outputId": "1477da67-dda6-4e1e-9576-06b62c95b892",
        "colab": {
          "base_uri": "https://localhost:8080/"
        }
      },
      "outputs": [
        {
          "output_type": "execute_result",
          "data": {
            "text/plain": [
              "True"
            ]
          },
          "metadata": {},
          "execution_count": 111
        }
      ],
      "source": [
        "mystr2.startswith(\"He\")\n",
        "# Return boolean value True if string starts with \"He\""
      ]
    },
    {
      "cell_type": "code",
      "execution_count": null,
      "id": "6305a0b1",
      "metadata": {
        "id": "6305a0b1",
        "outputId": "c00a094d-9541-4589-d072-b62e253e1175",
        "colab": {
          "base_uri": "https://localhost:8080/"
        }
      },
      "outputs": [
        {
          "output_type": "execute_result",
          "data": {
            "text/plain": [
              "False"
            ]
          },
          "metadata": {},
          "execution_count": 112
        }
      ],
      "source": [
        "mystr2.endswith(\"on\")\n",
        "# Return boolean value True if string ends with \"on\""
      ]
    },
    {
      "cell_type": "code",
      "execution_count": null,
      "id": "f7d7c529",
      "metadata": {
        "id": "f7d7c529"
      },
      "outputs": [],
      "source": [
        "mystr4 = \"one two three four one two two \\\n",
        "three five five six seven six seven one oneone ten eight \\\n",
        "ten nine eleven ten ten nine\""
      ]
    },
    {
      "cell_type": "code",
      "execution_count": null,
      "id": "44834058",
      "metadata": {
        "id": "44834058",
        "outputId": "126058ef-f758-4a7d-ea39-aad20975d217",
        "colab": {
          "base_uri": "https://localhost:8080/",
          "height": 35
        }
      },
      "outputs": [
        {
          "output_type": "execute_result",
          "data": {
            "text/plain": [
              "'one two three four one two two three five five six seven six seven one oneone ten eight ten nine eleven ten ten nine'"
            ],
            "application/vnd.google.colaboratory.intrinsic+json": {
              "type": "string"
            }
          },
          "metadata": {},
          "execution_count": 114
        }
      ],
      "source": [
        "mystr4"
      ]
    },
    {
      "cell_type": "code",
      "execution_count": null,
      "id": "1f872c73",
      "metadata": {
        "id": "1f872c73"
      },
      "outputs": [],
      "source": [
        "mystr4=\"Hello everyone how are you\""
      ]
    },
    {
      "cell_type": "code",
      "execution_count": null,
      "id": "fcb30b96",
      "metadata": {
        "id": "fcb30b96",
        "outputId": "74492a8a-1fb2-4053-e95c-793f4366f0e5",
        "colab": {
          "base_uri": "https://localhost:8080/"
        }
      },
      "outputs": [
        {
          "output_type": "execute_result",
          "data": {
            "text/plain": [
              "['Hello', 'everyone', 'how', 'are', 'you']"
            ]
          },
          "metadata": {},
          "execution_count": 116
        }
      ],
      "source": [
        "mystr4.split()"
      ]
    },
    {
      "cell_type": "code",
      "execution_count": null,
      "id": "a8c2ae2d",
      "metadata": {
        "id": "a8c2ae2d",
        "outputId": "c3596a92-0ee4-4134-9ee5-7cc7171454b4",
        "colab": {
          "base_uri": "https://localhost:8080/"
        }
      },
      "outputs": [
        {
          "output_type": "stream",
          "name": "stdout",
          "text": [
            "['H', 'llo ', 'v', 'ryon', ' how ar', ' you']\n"
          ]
        }
      ],
      "source": [
        "print(mystr4.split('e'))"
      ]
    },
    {
      "cell_type": "code",
      "execution_count": null,
      "id": "ff8f5f98",
      "metadata": {
        "id": "ff8f5f98",
        "outputId": "d1e0f5e6-e755-44ca-ce0b-1731580d6c1c",
        "colab": {
          "base_uri": "https://localhost:8080/",
          "height": 35
        }
      },
      "outputs": [
        {
          "output_type": "execute_result",
          "data": {
            "text/plain": [
              "'Cost of item1 , item2 and item3 are 40 , 77 and 55'"
            ],
            "application/vnd.google.colaboratory.intrinsic+json": {
              "type": "string"
            }
          },
          "metadata": {},
          "execution_count": 118
        }
      ],
      "source": [
        "# Combining string & numbers using format method\n",
        "item1 = 40\n",
        "item2 = 55\n",
        "item3 = 77\n",
        "\"Cost of item1 , item2 and item3 are {} , {} and {}\".format(item1,item3,item2)"
      ]
    },
    {
      "cell_type": "code",
      "execution_count": null,
      "id": "0362f463",
      "metadata": {
        "id": "0362f463",
        "outputId": "81211642-c9fe-49d6-bb57-3c332894984b",
        "colab": {
          "base_uri": "https://localhost:8080/"
        }
      },
      "outputs": [
        {
          "output_type": "stream",
          "name": "stdout",
          "text": [
            "all three values are 3,9,5\n"
          ]
        }
      ],
      "source": [
        "a=5\n",
        "b=3\n",
        "c=9\n",
        "print('all three values are {},{},{}'.format(b,c,a))"
      ]
    },
    {
      "cell_type": "markdown",
      "id": "ed364f92",
      "metadata": {
        "id": "ed364f92"
      },
      "source": [
        "# Typecasting"
      ]
    },
    {
      "cell_type": "markdown",
      "id": "1eee6a0d",
      "metadata": {
        "id": "1eee6a0d"
      },
      "source": [
        "* Type Casting is the method to convert the variable data type into a certain data\n",
        "type in order to the operation required to be performed by users.\n",
        "\n",
        "* There are 2 ways in which typecasting is performed.\n",
        "\n",
        "1) Autotypecasting\n",
        "\n",
        "\n",
        "2) Forced Typecasting"
      ]
    },
    {
      "cell_type": "markdown",
      "id": "202310c5",
      "metadata": {
        "id": "202310c5"
      },
      "source": [
        "## Auto Typecasting\n",
        "* The Python interpreter automatically converts one data type to another without any user involvement."
      ]
    },
    {
      "cell_type": "code",
      "execution_count": null,
      "id": "85f98668",
      "metadata": {
        "id": "85f98668",
        "outputId": "a88fbaf5-09e5-4b15-8f41-e322063d59c2",
        "scrolled": true,
        "colab": {
          "base_uri": "https://localhost:8080/"
        }
      },
      "outputs": [
        {
          "output_type": "execute_result",
          "data": {
            "text/plain": [
              "9.67"
            ]
          },
          "metadata": {},
          "execution_count": 120
        }
      ],
      "source": [
        "4 + 5.67 + False\n",
        "##( background processing of the code) due to the\n",
        "##higher hierarchy of float datatype"
      ]
    },
    {
      "cell_type": "code",
      "execution_count": null,
      "id": "5ae66f4a",
      "metadata": {
        "id": "5ae66f4a",
        "outputId": "64d5e1b3-f281-48b2-fa21-2a268e5408c2",
        "colab": {
          "base_uri": "https://localhost:8080/"
        }
      },
      "outputs": [
        {
          "output_type": "execute_result",
          "data": {
            "text/plain": [
              "10.6"
            ]
          },
          "metadata": {},
          "execution_count": 121
        }
      ],
      "source": [
        "4 + 5.6 + False + True"
      ]
    },
    {
      "cell_type": "code",
      "execution_count": null,
      "id": "d2d1107a",
      "metadata": {
        "colab": {
          "base_uri": "https://localhost:8080/",
          "height": 141
        },
        "id": "d2d1107a",
        "outputId": "e87cabc7-b0c8-477d-e9d2-7b220b55a53a"
      },
      "outputs": [
        {
          "output_type": "error",
          "ename": "TypeError",
          "evalue": "unsupported operand type(s) for +: 'int' and 'str'",
          "traceback": [
            "\u001b[0;31m---------------------------------------------------------------------------\u001b[0m",
            "\u001b[0;31mTypeError\u001b[0m                                 Traceback (most recent call last)",
            "\u001b[0;32m<ipython-input-122-e0b9e20c228f>\u001b[0m in \u001b[0;36m<cell line: 1>\u001b[0;34m()\u001b[0m\n\u001b[0;32m----> 1\u001b[0;31m \u001b[0;36m4\u001b[0m\u001b[0;34m+\u001b[0m\u001b[0;36m3\u001b[0m\u001b[0;34m+\u001b[0m\u001b[0;34m'data'\u001b[0m\u001b[0;34m+\u001b[0m\u001b[0;36m6.7\u001b[0m\u001b[0;34m\u001b[0m\u001b[0;34m\u001b[0m\u001b[0m\n\u001b[0m",
            "\u001b[0;31mTypeError\u001b[0m: unsupported operand type(s) for +: 'int' and 'str'"
          ]
        }
      ],
      "source": [
        "4+3+'data'+6.7"
      ]
    },
    {
      "cell_type": "code",
      "execution_count": null,
      "id": "d272b730",
      "metadata": {
        "id": "d272b730",
        "scrolled": true,
        "outputId": "a5640210-cf04-464d-d446-a7ec9c37a52d",
        "colab": {
          "base_uri": "https://localhost:8080/"
        }
      },
      "outputs": [
        {
          "output_type": "execute_result",
          "data": {
            "text/plain": [
              "4.6"
            ]
          },
          "metadata": {},
          "execution_count": 123
        }
      ],
      "source": [
        "True + 3.6"
      ]
    },
    {
      "cell_type": "markdown",
      "id": "86d08aae",
      "metadata": {
        "id": "86d08aae"
      },
      "source": [
        "## Forced Typecasting"
      ]
    },
    {
      "cell_type": "code",
      "execution_count": null,
      "id": "d42d6532",
      "metadata": {
        "id": "d42d6532"
      },
      "outputs": [],
      "source": [
        "a=9.7"
      ]
    },
    {
      "cell_type": "code",
      "execution_count": null,
      "id": "5c4bd907",
      "metadata": {
        "id": "5c4bd907",
        "outputId": "74456fe7-6c1a-4a75-e1aa-db9c10d240a3",
        "colab": {
          "base_uri": "https://localhost:8080/"
        }
      },
      "outputs": [
        {
          "output_type": "execute_result",
          "data": {
            "text/plain": [
              "float"
            ]
          },
          "metadata": {},
          "execution_count": 125
        }
      ],
      "source": [
        "type(a)"
      ]
    },
    {
      "cell_type": "code",
      "execution_count": null,
      "id": "52c773ff",
      "metadata": {
        "id": "52c773ff",
        "outputId": "d52e5fcb-4783-44ac-9000-22ca80925b08",
        "colab": {
          "base_uri": "https://localhost:8080/"
        }
      },
      "outputs": [
        {
          "output_type": "execute_result",
          "data": {
            "text/plain": [
              "9"
            ]
          },
          "metadata": {},
          "execution_count": 126
        }
      ],
      "source": [
        "int(a)"
      ]
    },
    {
      "cell_type": "code",
      "execution_count": null,
      "id": "26d9fc15",
      "metadata": {
        "id": "26d9fc15",
        "outputId": "617d426f-cf84-45e9-bc64-5e0df701d287",
        "colab": {
          "base_uri": "https://localhost:8080/"
        }
      },
      "outputs": [
        {
          "output_type": "execute_result",
          "data": {
            "text/plain": [
              "True"
            ]
          },
          "metadata": {},
          "execution_count": 127
        }
      ],
      "source": [
        "bool(a)"
      ]
    },
    {
      "cell_type": "code",
      "execution_count": null,
      "id": "b91c3821",
      "metadata": {
        "id": "b91c3821",
        "outputId": "732eeef8-7c2e-4458-8e8e-45bcf46a4957",
        "colab": {
          "base_uri": "https://localhost:8080/",
          "height": 35
        }
      },
      "outputs": [
        {
          "output_type": "execute_result",
          "data": {
            "text/plain": [
              "'9.7'"
            ],
            "application/vnd.google.colaboratory.intrinsic+json": {
              "type": "string"
            }
          },
          "metadata": {},
          "execution_count": 128
        }
      ],
      "source": [
        "str(a)"
      ]
    },
    {
      "cell_type": "code",
      "execution_count": null,
      "id": "dc49132c",
      "metadata": {
        "id": "dc49132c"
      },
      "outputs": [],
      "source": [
        "a=5"
      ]
    },
    {
      "cell_type": "code",
      "execution_count": null,
      "id": "afe1b8fe",
      "metadata": {
        "id": "afe1b8fe",
        "outputId": "36ac0e20-7370-4243-eb2d-d79c61277cfb",
        "colab": {
          "base_uri": "https://localhost:8080/"
        }
      },
      "outputs": [
        {
          "output_type": "execute_result",
          "data": {
            "text/plain": [
              "5.0"
            ]
          },
          "metadata": {},
          "execution_count": 132
        }
      ],
      "source": [
        "float(a)"
      ]
    },
    {
      "cell_type": "code",
      "execution_count": null,
      "id": "5263d0e3",
      "metadata": {
        "id": "5263d0e3",
        "outputId": "bf467ce1-a6a7-4fdc-91a4-ffb4b2c671a0",
        "colab": {
          "base_uri": "https://localhost:8080/"
        }
      },
      "outputs": [
        {
          "output_type": "execute_result",
          "data": {
            "text/plain": [
              "True"
            ]
          },
          "metadata": {},
          "execution_count": 133
        }
      ],
      "source": [
        "bool(a)"
      ]
    },
    {
      "cell_type": "code",
      "execution_count": null,
      "id": "0ba33ee8",
      "metadata": {
        "id": "0ba33ee8",
        "outputId": "2f32de96-0a59-4f47-8e55-9646904eb07c",
        "scrolled": true,
        "colab": {
          "base_uri": "https://localhost:8080/",
          "height": 35
        }
      },
      "outputs": [
        {
          "output_type": "execute_result",
          "data": {
            "text/plain": [
              "'5'"
            ],
            "application/vnd.google.colaboratory.intrinsic+json": {
              "type": "string"
            }
          },
          "metadata": {},
          "execution_count": 134
        }
      ],
      "source": [
        "str(a)"
      ]
    },
    {
      "cell_type": "code",
      "execution_count": null,
      "id": "423ea644",
      "metadata": {
        "id": "423ea644"
      },
      "outputs": [],
      "source": [
        "a=False"
      ]
    },
    {
      "cell_type": "code",
      "execution_count": null,
      "id": "d2f19935",
      "metadata": {
        "id": "d2f19935",
        "outputId": "e5009497-1d26-4413-a52b-5bfb02cc835f",
        "colab": {
          "base_uri": "https://localhost:8080/"
        }
      },
      "outputs": [
        {
          "output_type": "execute_result",
          "data": {
            "text/plain": [
              "0.0"
            ]
          },
          "metadata": {},
          "execution_count": 136
        }
      ],
      "source": [
        "float(a)"
      ]
    },
    {
      "cell_type": "code",
      "execution_count": null,
      "id": "26b1d16e",
      "metadata": {
        "id": "26b1d16e",
        "outputId": "2bceae57-f991-4a96-af28-eadbece2ae53",
        "colab": {
          "base_uri": "https://localhost:8080/"
        }
      },
      "outputs": [
        {
          "output_type": "execute_result",
          "data": {
            "text/plain": [
              "0"
            ]
          },
          "metadata": {},
          "execution_count": 137
        }
      ],
      "source": [
        "int(a)"
      ]
    },
    {
      "cell_type": "code",
      "execution_count": null,
      "id": "1a52f466",
      "metadata": {
        "id": "1a52f466",
        "outputId": "2b5bc076-8987-44c9-b569-4a8d960eacf8",
        "colab": {
          "base_uri": "https://localhost:8080/",
          "height": 35
        }
      },
      "outputs": [
        {
          "output_type": "execute_result",
          "data": {
            "text/plain": [
              "'False'"
            ],
            "application/vnd.google.colaboratory.intrinsic+json": {
              "type": "string"
            }
          },
          "metadata": {},
          "execution_count": 138
        }
      ],
      "source": [
        "str(a)"
      ]
    },
    {
      "cell_type": "code",
      "execution_count": null,
      "id": "2613aa7d",
      "metadata": {
        "id": "2613aa7d"
      },
      "outputs": [],
      "source": [
        "a='qewrw'"
      ]
    },
    {
      "cell_type": "code",
      "execution_count": null,
      "id": "c3cbcdb2",
      "metadata": {
        "id": "c3cbcdb2",
        "outputId": "1cb79c63-87f0-4569-b80f-00317e8b91a6",
        "colab": {
          "base_uri": "https://localhost:8080/",
          "height": 141
        }
      },
      "outputs": [
        {
          "output_type": "error",
          "ename": "ValueError",
          "evalue": "could not convert string to float: 'qewrw'",
          "traceback": [
            "\u001b[0;31m---------------------------------------------------------------------------\u001b[0m",
            "\u001b[0;31mValueError\u001b[0m                                Traceback (most recent call last)",
            "\u001b[0;32m<ipython-input-140-6c8cade3f87c>\u001b[0m in \u001b[0;36m<cell line: 1>\u001b[0;34m()\u001b[0m\n\u001b[0;32m----> 1\u001b[0;31m \u001b[0mfloat\u001b[0m\u001b[0;34m(\u001b[0m\u001b[0ma\u001b[0m\u001b[0;34m)\u001b[0m\u001b[0;34m\u001b[0m\u001b[0;34m\u001b[0m\u001b[0m\n\u001b[0m",
            "\u001b[0;31mValueError\u001b[0m: could not convert string to float: 'qewrw'"
          ]
        }
      ],
      "source": [
        "float(a)#string could not covert into  float"
      ]
    },
    {
      "cell_type": "code",
      "execution_count": null,
      "id": "40f399e5",
      "metadata": {
        "id": "40f399e5"
      },
      "outputs": [],
      "source": []
    },
    {
      "cell_type": "code",
      "execution_count": null,
      "id": "31946450",
      "metadata": {
        "id": "31946450"
      },
      "outputs": [],
      "source": [
        "a=''"
      ]
    },
    {
      "cell_type": "code",
      "execution_count": null,
      "id": "1fee0875",
      "metadata": {
        "id": "1fee0875",
        "outputId": "2e017b8f-9372-4f4d-959f-08957428ae9b",
        "colab": {
          "base_uri": "https://localhost:8080/"
        }
      },
      "outputs": [
        {
          "output_type": "execute_result",
          "data": {
            "text/plain": [
              "False"
            ]
          },
          "metadata": {},
          "execution_count": 152
        }
      ],
      "source": [
        "bool(a)"
      ]
    },
    {
      "cell_type": "code",
      "execution_count": null,
      "id": "f4e7c68a",
      "metadata": {
        "id": "f4e7c68a"
      },
      "outputs": [],
      "source": []
    },
    {
      "cell_type": "code",
      "execution_count": null,
      "id": "bd684c6f",
      "metadata": {
        "id": "bd684c6f",
        "outputId": "06ecfccf-b02c-4de3-f38f-7736bb4fd1ae",
        "colab": {
          "base_uri": "https://localhost:8080/"
        }
      },
      "outputs": [
        {
          "output_type": "execute_result",
          "data": {
            "text/plain": [
              "2"
            ]
          },
          "metadata": {},
          "execution_count": 153
        }
      ],
      "source": [
        "int('2')"
      ]
    },
    {
      "cell_type": "code",
      "execution_count": null,
      "id": "9e8361d5",
      "metadata": {
        "id": "9e8361d5",
        "outputId": "f26d4997-9318-4ad0-f9b3-ab884d9b8d69",
        "colab": {
          "base_uri": "https://localhost:8080/"
        }
      },
      "outputs": [
        {
          "output_type": "execute_result",
          "data": {
            "text/plain": [
              "1"
            ]
          },
          "metadata": {},
          "execution_count": 154
        }
      ],
      "source": [
        "int(True)"
      ]
    },
    {
      "cell_type": "code",
      "execution_count": null,
      "id": "75f03975",
      "metadata": {
        "id": "75f03975",
        "outputId": "81f293c7-a974-4e92-a947-a453c177334d",
        "scrolled": true,
        "colab": {
          "base_uri": "https://localhost:8080/"
        }
      },
      "outputs": [
        {
          "output_type": "execute_result",
          "data": {
            "text/plain": [
              "0"
            ]
          },
          "metadata": {},
          "execution_count": 155
        }
      ],
      "source": [
        "int(False)"
      ]
    },
    {
      "cell_type": "code",
      "execution_count": null,
      "id": "3905f14c",
      "metadata": {
        "id": "3905f14c",
        "outputId": "34e9cdb8-2470-4144-96cb-fa1ce2bd7631",
        "colab": {
          "base_uri": "https://localhost:8080/"
        }
      },
      "outputs": [
        {
          "output_type": "execute_result",
          "data": {
            "text/plain": [
              "1.0"
            ]
          },
          "metadata": {},
          "execution_count": 156
        }
      ],
      "source": [
        "float(True)"
      ]
    },
    {
      "cell_type": "code",
      "execution_count": null,
      "id": "dc81f7e9",
      "metadata": {
        "id": "dc81f7e9",
        "outputId": "a510be50-22a4-4a37-aa89-00f8708f177b",
        "scrolled": true,
        "colab": {
          "base_uri": "https://localhost:8080/"
        }
      },
      "outputs": [
        {
          "output_type": "execute_result",
          "data": {
            "text/plain": [
              "0.0"
            ]
          },
          "metadata": {},
          "execution_count": 157
        }
      ],
      "source": [
        "float(False)"
      ]
    },
    {
      "cell_type": "code",
      "execution_count": null,
      "id": "2c1e5c2c",
      "metadata": {
        "id": "2c1e5c2c",
        "outputId": "be333871-a2bc-4095-b414-17014cccaccd",
        "colab": {
          "base_uri": "https://localhost:8080/",
          "height": 141
        }
      },
      "outputs": [
        {
          "output_type": "error",
          "ename": "ValueError",
          "evalue": "could not convert string to float: 'abc'",
          "traceback": [
            "\u001b[0;31m---------------------------------------------------------------------------\u001b[0m",
            "\u001b[0;31mValueError\u001b[0m                                Traceback (most recent call last)",
            "\u001b[0;32m<ipython-input-158-2a5e8a88bb46>\u001b[0m in \u001b[0;36m<cell line: 1>\u001b[0;34m()\u001b[0m\n\u001b[0;32m----> 1\u001b[0;31m \u001b[0mfloat\u001b[0m\u001b[0;34m(\u001b[0m\u001b[0;34m'abc'\u001b[0m\u001b[0;34m)\u001b[0m  \u001b[0;31m# Convert the datatype to float\u001b[0m\u001b[0;34m\u001b[0m\u001b[0;34m\u001b[0m\u001b[0m\n\u001b[0m",
            "\u001b[0;31mValueError\u001b[0m: could not convert string to float: 'abc'"
          ]
        }
      ],
      "source": [
        "float('abc')  # Convert the datatype to float"
      ]
    },
    {
      "cell_type": "code",
      "execution_count": null,
      "id": "395b4aa7",
      "metadata": {
        "id": "395b4aa7",
        "scrolled": true
      },
      "outputs": [],
      "source": [
        "bool(8.9)#converting float type into bool"
      ]
    },
    {
      "cell_type": "code",
      "execution_count": null,
      "id": "a48861ee",
      "metadata": {
        "id": "a48861ee",
        "outputId": "821e0fe4-40bd-487b-db8f-7c22848756f0",
        "scrolled": true,
        "colab": {
          "base_uri": "https://localhost:8080/"
        }
      },
      "outputs": [
        {
          "output_type": "execute_result",
          "data": {
            "text/plain": [
              "False"
            ]
          },
          "metadata": {},
          "execution_count": 159
        }
      ],
      "source": [
        "bool(0)"
      ]
    },
    {
      "cell_type": "code",
      "execution_count": null,
      "id": "00a8c882",
      "metadata": {
        "id": "00a8c882",
        "outputId": "4dcf8be9-babf-49be-c4d6-c66e9ee5c6c1",
        "scrolled": true,
        "colab": {
          "base_uri": "https://localhost:8080/"
        }
      },
      "outputs": [
        {
          "output_type": "execute_result",
          "data": {
            "text/plain": [
              "True"
            ]
          },
          "metadata": {},
          "execution_count": 160
        }
      ],
      "source": [
        "bool(-1)"
      ]
    },
    {
      "cell_type": "code",
      "execution_count": null,
      "id": "85eff29b",
      "metadata": {
        "id": "85eff29b"
      },
      "outputs": [],
      "source": []
    },
    {
      "cell_type": "code",
      "execution_count": null,
      "id": "d63dad07",
      "metadata": {
        "id": "d63dad07"
      },
      "outputs": [],
      "source": []
    },
    {
      "cell_type": "code",
      "execution_count": null,
      "id": "06aee519",
      "metadata": {
        "id": "06aee519"
      },
      "outputs": [],
      "source": []
    },
    {
      "cell_type": "code",
      "execution_count": null,
      "id": "a8c93b79",
      "metadata": {
        "id": "a8c93b79",
        "outputId": "2de37ea9-1ff5-4038-d6f8-76a669d17581",
        "colab": {
          "base_uri": "https://localhost:8080/",
          "height": 35
        }
      },
      "outputs": [
        {
          "output_type": "execute_result",
          "data": {
            "text/plain": [
              "'5'"
            ],
            "application/vnd.google.colaboratory.intrinsic+json": {
              "type": "string"
            }
          },
          "metadata": {},
          "execution_count": 162
        }
      ],
      "source": [
        "str(5)"
      ]
    },
    {
      "cell_type": "code",
      "execution_count": null,
      "id": "62476512",
      "metadata": {
        "id": "62476512",
        "outputId": "c55d316d-6e32-4c1d-b01c-857c648d29c2",
        "colab": {
          "base_uri": "https://localhost:8080/",
          "height": 35
        }
      },
      "outputs": [
        {
          "output_type": "execute_result",
          "data": {
            "text/plain": [
              "'9.0'"
            ],
            "application/vnd.google.colaboratory.intrinsic+json": {
              "type": "string"
            }
          },
          "metadata": {},
          "execution_count": 163
        }
      ],
      "source": [
        "str(9.0)"
      ]
    },
    {
      "cell_type": "code",
      "execution_count": null,
      "id": "434e87de",
      "metadata": {
        "id": "434e87de",
        "outputId": "74be054e-5664-4988-8014-7187bc6e2b97",
        "colab": {
          "base_uri": "https://localhost:8080/",
          "height": 35
        }
      },
      "outputs": [
        {
          "output_type": "execute_result",
          "data": {
            "text/plain": [
              "'True'"
            ],
            "application/vnd.google.colaboratory.intrinsic+json": {
              "type": "string"
            }
          },
          "metadata": {},
          "execution_count": 164
        }
      ],
      "source": [
        "str(True)"
      ]
    },
    {
      "cell_type": "code",
      "execution_count": null,
      "id": "25110c49",
      "metadata": {
        "id": "25110c49",
        "outputId": "c8ca86bf-36f7-48d2-99b2-4f8b10101933",
        "colab": {
          "base_uri": "https://localhost:8080/",
          "height": 35
        }
      },
      "outputs": [
        {
          "output_type": "execute_result",
          "data": {
            "text/plain": [
              "'False'"
            ],
            "application/vnd.google.colaboratory.intrinsic+json": {
              "type": "string"
            }
          },
          "metadata": {},
          "execution_count": 165
        }
      ],
      "source": [
        "str(False)"
      ]
    },
    {
      "cell_type": "code",
      "execution_count": null,
      "id": "60068118",
      "metadata": {
        "id": "60068118"
      },
      "outputs": [],
      "source": []
    }
  ],
  "metadata": {
    "colab": {
      "provenance": [],
      "include_colab_link": true
    },
    "kernelspec": {
      "display_name": "Python 3 (ipykernel)",
      "language": "python",
      "name": "python3"
    },
    "language_info": {
      "codemirror_mode": {
        "name": "ipython",
        "version": 3
      },
      "file_extension": ".py",
      "mimetype": "text/x-python",
      "name": "python",
      "nbconvert_exporter": "python",
      "pygments_lexer": "ipython3",
      "version": "3.10.9"
    }
  },
  "nbformat": 4,
  "nbformat_minor": 5
}